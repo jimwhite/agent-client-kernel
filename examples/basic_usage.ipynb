{
 "cells": [
  {
   "cell_type": "markdown",
   "metadata": {},
   "source": [
    "# Agent Client Protocol Kernel Demo\n",
    "\n",
    "This notebook demonstrates the basic usage of the Agent Client Protocol Jupyter kernel."
   ]
  },
  {
   "cell_type": "markdown",
   "metadata": {},
   "source": [
    "## Simple Echo Test\n",
    "\n",
    "The kernel currently implements a simple echo functionality for demonstration."
   ]
  },
  {
   "cell_type": "code",
   "execution_count": null,
   "metadata": {},
   "outputs": [],
   "source": [
    "Hello, Agent Client Protocol!"
   ]
  },
  {
   "cell_type": "code",
   "execution_count": null,
   "metadata": {},
   "outputs": [],
   "source": [
    "This is a test message"
   ]
  },
  {
   "cell_type": "markdown",
   "metadata": {},
   "source": [
    "## Multi-line Input\n",
    "\n",
    "You can also send multi-line prompts:"
   ]
  },
  {
   "cell_type": "code",
   "execution_count": null,
   "metadata": {},
   "outputs": [],
   "source": [
    "This is line 1\n",
    "This is line 2\n",
    "This is line 3"
   ]
  }
 ],
 "metadata": {
  "kernelspec": {
   "display_name": "Agent Client Protocol",
   "language": "agent",
   "name": "agentclient"
  },
  "language_info": {
   "mimetype": "text/plain",
   "name": "agent"
  }
 },
 "nbformat": 4,
 "nbformat_minor": 4
}
