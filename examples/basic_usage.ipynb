{
 "cells": [
  {
   "cell_type": "markdown",
   "metadata": {},
   "source": [
    "# Agent Client Protocol Kernel Demo\n",
    "\n",
    "This notebook demonstrates the Agent Client Protocol Jupyter kernel.\n",
    "\n",
    "The kernel connects to external ACP agents (like codex-acp) and allows you to interact with AI coding assistants directly from your notebook."
   ]
  },
  {
   "cell_type": "markdown",
   "metadata": {},
   "source": [
    "## Configuration\n",
    "\n",
    "Before using this kernel, make sure you have:\n",
    "\n",
    "1. An ACP agent installed (e.g., `npm install -g @zed-industries/codex-acp`)\n",
    "2. API credentials set (e.g., `export OPENAI_API_KEY=sk-...`)\n",
    "\n",
    "You can check the current configuration by running `%help`"
   ]
  },
  {
   "cell_type": "markdown",
   "metadata": {},
   "source": [
    "## Example Prompts\n",
    "\n",
    "Simply type your request and execute the cell. The agent will respond with code, explanations, or assistance."
   ]
  },
  {
   "cell_type": "code",
   "execution_count": null,
   "metadata": {},
   "outputs": [],
   "source": [
    "Write a Python function to calculate the factorial of a number"
   ]
  },
  {
   "cell_type": "code",
   "execution_count": null,
   "metadata": {},
   "outputs": [],
   "source": [
    "Explain how binary search works and provide an implementation in Python"
   ]
  },
  {
   "cell_type": "markdown",
   "metadata": {},
   "source": [
    "## Multi-line Prompts\n",
    "\n",
    "You can also send more complex, multi-line prompts:"
   ]
  },
  {
   "cell_type": "code",
   "execution_count": null,
   "metadata": {},
   "outputs": [],
   "source": [
    "Create a Python class for a simple to-do list manager with the following features:\n",
    "- Add tasks\n",
    "- Remove tasks\n",
    "- Mark tasks as complete\n",
    "- List all tasks"
   ]
  },
  {
   "cell_type": "markdown",
   "metadata": {},
   "source": [
    "## MetaKernel Features\n",
    "\n",
    "This kernel is based on MetaKernel, so you have access to built-in magics like:\n",
    "\n",
    "- `%help` - Show help information\n",
    "- `%lsmagic` - List available magics\n",
    "- Shell commands (prefix with `!`)\n",
    "\n",
    "And more!"
   ]
  }
 ],
 "metadata": {
  "kernelspec": {
   "display_name": "Agent Client Protocol",
   "language": "agent",
   "name": "agentclient"
  },
  "language_info": {
   "mimetype": "text/plain",
   "name": "agent",
   "file_extension": ".txt"
  }
 },
 "nbformat": 4,
 "nbformat_minor": 4
}
