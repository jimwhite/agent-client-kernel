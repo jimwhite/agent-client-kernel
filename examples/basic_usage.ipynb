{
 "cells": [
  {
   "cell_type": "markdown",
   "metadata": {},
   "source": [
    "# Agent Client Protocol Kernel Demo\n",
    "\n",
    "This notebook demonstrates the Agent Client Protocol Jupyter kernel.\n",
    "\n",
    "The kernel connects to external ACP agents (like codex-acp) and allows you to interact with AI coding assistants directly from your notebook."
   ]
  },
  {
   "cell_type": "markdown",
   "metadata": {},
   "source": [
    "## Configuration\n",
    "\n",
    "Before using this kernel, make sure you have:\n",
    "\n",
    "1. An ACP agent installed (e.g., `npm install -g @zed-industries/codex-acp`)\n",
    "2. API credentials set (e.g., `export OPENAI_API_KEY=sk-...`)\n",
    "\n",
    "You can check the current configuration by running `%help`"
   ]
  },
  {
   "cell_type": "code",
   "execution_count": 1,
   "metadata": {},
   "outputs": [
    {
     "data": {
      "text/plain": [
       "Agent Client Protocol Kernel\n",
       "\n",
       "This kernel allows interaction with ACP agents directly from Jupyter notebooks.\n",
       "Simply type your prompts and execute cells to communicate with the agent.\n",
       "\n",
       "Current agent: codex-acp \n",
       "\n",
       "Agent Management Command:\n",
       "Use '%agent' with subcommands to manage configuration and sessions:\n",
       "\n",
       "  MCP Server Configuration:\n",
       "    %agent mcp add NAME COMMAND [ARGS...]  - add MCP server\n",
       "    %agent mcp list                        - list MCP servers\n",
       "    %agent mcp remove NAME                 - remove MCP server\n",
       "    %agent mcp clear                       - clear all MCP servers\n",
       "\n",
       "  Permission Configuration:\n",
       "    %agent permissions [auto|manual|deny]  - set permission mode\n",
       "    %agent permissions list                - show permission history\n",
       "\n",
       "  Session Management:\n",
       "    %agent session new [CWD]               - create new session\n",
       "    %agent session info                    - show session information\n",
       "    %agent session restart                 - restart current session\n",
       "\n",
       "  Agent Configuration:\n",
       "    %agent config [COMMAND [ARGS...]]     - configure agent command\n",
       "    %agent env [KEY=VALUE]                 - set environment variables\n",
       "\n",
       "For detailed help: %agent (shows all subcommands)\n",
       "For help on any magic: %agent?\n",
       "\n",
       "Supported agents:\n",
       "- codex-acp (OpenAI Codex, requires OPENAI_API_KEY or CODEX_API_KEY)\n",
       "- Any ACP-compatible agent\n"
      ]
     },
     "metadata": {},
     "output_type": "display_data"
    }
   ],
   "source": [
    "%help"
   ]
  },
  {
   "cell_type": "code",
   "execution_count": 2,
   "metadata": {},
   "outputs": [
    {
     "name": "stdout",
     "output_type": "stream",
     "text": [
      "Line magics:\n",
      "    %activity FILENAME - run a widget-based activity\n",
      "    %agent SUBCOMMAND [ARGS...] - unified agent management command\n",
      "    %agent_config [COMMAND [ARGS...]] - configure the agent command\n",
      "    %agent_env [KEY=VALUE] - set or display agent environment variables\n",
      "    %cd PATH - change current directory of session\n",
      "    %connect_info - show connection information\n",
      "    %conversation ID - insert conversation by ID\n",
      "    %dot CODE - render code as Graphviz image\n",
      "    %download URL [-f FILENAME] - download file from URL\n",
      "    %edit FILENAME - load code from filename into next cell for editing\n",
      "    %get VARIABLE - get a variable from the kernel in a Python-type.\n",
      "    %help TEXT - get help on the given text\n",
      "    %html CODE - display code as HTML\n",
      "    %include FILENAME ... - include code from filename into this code\n",
      "    %install PACKAGE - install package\n",
      "    %install_magic URL - download and install magic from URL\n",
      "    %javascript CODE - send code as JavaScript\n",
      "    %jigsaw LANGUAGE - show visual code editor/generator\n",
      "    %kernel MODULE CLASS [-k NAME] - construct a kernel for sending code.\n",
      "    %kx CODE [-k NAME] - send the code to the kernel.\n",
      "    %latex TEXT - display text as LaTeX\n",
      "    %load FILENAME - load code from filename into next cell\n",
      "    %ls PATH - list files and directories under PATH\n",
      "    %lsmagic - list the current line and cell magics\n",
      "    %macro NAME - execute a macro\n",
      "    %magic - show installed magics\n",
      "    %matplotlib BACKEND - set the matplotlib backend to BACKEND\n",
      "    %mcp_add NAME COMMAND [ARGS...] - add an MCP server configuration\n",
      "    %mcp_clear - remove all MCP server configurations\n",
      "    %mcp_list - list all configured MCP servers\n",
      "    %mcp_remove NAME - remove an MCP server configuration\n",
      "    %new_session [CWD] - create a new agent session\n",
      "    %parallel MODULE CLASS [-k NAME] [-i [...]] - construct an interface to the cluster.\n",
      "    %permissions [MODE] - configure permission handling mode\n",
      "    %permissions_list - list recent permission requests\n",
      "    %plot [options] backend - configure plotting for the session.\n",
      "    %pmap FUNCTION [ARGS1,ARGS2,...] - (\"parallel map\") call a FUNCTION on args\n",
      "    %px EXPRESSION - send EXPRESSION to the cluster.\n",
      "    %python CODE - evaluate code as Python\n",
      "    %reload_magics - reload the magics from the installed files\n",
      "    %restart - restart session\n",
      "    %run [--language LANG] FILENAME - run code in filename by\n",
      "    %scheme CODE - evaluate code as Scheme\n",
      "    %session_info - display current session information\n",
      "    %session_restart - restart the current session\n",
      "    %set VARIABLE VALUE - set a variable in the kernel.\n",
      "    %shell COMMAND - run the line as a shell command\n",
      "\n",
      "Cell magics:\n",
      "     %%shell - run the contents of the cell as shell commands\n",
      "    %%activity FILENAME - make an activity from\n",
      "    %%brain - run a cell as brain control code\n",
      "    %%debug - step through the code expression by expression\n",
      "    %%dot - render contents of cell as Graphviz image\n",
      "    %%file [--append|-a] FILENAME - write contents of cell to file\n",
      "    %%help TEXT - get detailed help on the given text\n",
      "    %%html - display contents of cell as HTML\n",
      "    %%javascript - send contents of cell as JavaScript\n",
      "    %%kx [-k NAME] - send the cell code to the kernel.\n",
      "    %%latex - display contents of cell as LaTeX\n",
      "    %%macro NAME - learn a new macro\n",
      "    %%pipe FUNCTION1 | FUNCTION2 ...\n",
      "    %%processing - run the cell in the language Processing\n",
      "    %%px - send cell to the cluster.\n",
      "    %%python - evaluate contents of cell as Python\n",
      "    %%scheme - evaluate contents of cell as Scheme\n",
      "    %%show [-o]- show cell contents or results in system pager\n",
      "    %%time - show time to run cell\n",
      "    %%tutor [--language=LANGUAGE] - show cell with\n",
      "    %conversation ID - insert conversation by ID\n",
      "\n",
      "Shell shortcut:\n",
      "    ! COMMAND ... - execute command in shell\n",
      "\n",
      "Any cell magic can be made persistent for rest of session by using %%% prefix.\n",
      "\n",
      "Help on items:\n",
      "    ??item - get detailed, technical information on item\n",
      "    ?item  - get help on item\n",
      "    item?  - get help on item\n",
      "    item?? - get detailed, technical information on item\n",
      "\n"
     ]
    }
   ],
   "source": [
    "%magic"
   ]
  },
  {
   "cell_type": "code",
   "execution_count": 3,
   "metadata": {},
   "outputs": [
    {
     "data": {
      "text/plain": [
       "\n",
       "%agent SUBCOMMAND [ARGS...] - unified agent management command\n",
       "\n",
       "This magic provides a unified interface for all agent configuration,\n",
       "session management, MCP servers, and permissions.\n",
       "\n",
       "Subcommands:\n",
       "\n",
       "MCP Server Configuration:\n",
       "  %agent mcp add NAME COMMAND [ARGS...]  - add MCP server\n",
       "  %agent mcp list                        - list MCP servers\n",
       "  %agent mcp remove NAME                 - remove MCP server\n",
       "  %agent mcp clear                       - clear all MCP servers\n",
       "\n",
       "Permission Configuration:\n",
       "  %agent permissions [MODE]              - set permission mode (auto/manual/deny)\n",
       "  %agent permissions list                - show permission history\n",
       "\n",
       "Session Management:\n",
       "  %agent session new [CWD]               - create new session\n",
       "  %agent session info                    - show session information\n",
       "  %agent session restart                 - restart current session\n",
       "\n",
       "Agent Configuration:\n",
       "  %agent config [COMMAND [ARGS...]]     - configure agent command\n",
       "  %agent env [KEY=VALUE]                 - set environment variables\n",
       "\n",
       "Examples:\n",
       "    %agent mcp add filesystem /usr/local/bin/mcp-server-filesystem\n",
       "    %agent permissions auto\n",
       "    %agent session new /path/to/project\n",
       "    %agent config codex-acp --verbose\n"
      ]
     },
     "metadata": {},
     "output_type": "display_data"
    }
   ],
   "source": [
    "%help agent"
   ]
  },
  {
   "cell_type": "code",
   "execution_count": 4,
   "metadata": {},
   "outputs": [
    {
     "data": {
      "text/plain": [
       "MCP Server Configuration\n",
       "\n",
       "MCP (Model Context Protocol) servers provide additional capabilities to the agent.\n",
       "\n",
       "Commands:\n",
       "  %agent mcp add NAME COMMAND [ARGS...]\n",
       "      Add an MCP server to the session\n",
       "      Example: %agent mcp add filesystem /usr/local/bin/mcp-server-filesystem\n",
       "      \n",
       "  %agent mcp list\n",
       "      List all configured MCP servers\n",
       "      \n",
       "  %agent mcp remove NAME\n",
       "      Remove a specific MCP server by name\n",
       "      \n",
       "  %agent mcp clear\n",
       "      Remove all configured MCP servers\n"
      ]
     },
     "metadata": {},
     "output_type": "display_data"
    }
   ],
   "source": [
    "%help agent mcp"
   ]
  },
  {
   "cell_type": "code",
   "execution_count": 5,
   "metadata": {},
   "outputs": [
    {
     "data": {
      "text/plain": [
       "%agent SUBCOMMAND [ARGS...] - unified agent management command\n",
       "\n",
       "This magic provides a unified interface for all agent configuration,\n",
       "session management, MCP servers, and permissions.\n",
       "\n",
       "Subcommands:\n",
       "\n",
       "MCP Server Configuration:\n",
       "  %agent mcp add NAME COMMAND [ARGS...]  - add MCP server\n",
       "  %agent mcp list                        - list MCP servers\n",
       "  %agent mcp remove NAME                 - remove MCP server\n",
       "  %agent mcp clear                       - clear all MCP servers\n",
       "\n",
       "Permission Configuration:\n",
       "  %agent permissions [MODE]              - set permission mode (auto/manual/deny)\n",
       "  %agent permissions list                - show permission history\n",
       "\n",
       "Session Management:\n",
       "  %agent session new [CWD]               - create new session\n",
       "  %agent session info                    - show session information\n",
       "  %agent session restart                 - restart current session\n",
       "\n",
       "Agent Configuration:\n",
       "  %agent config [COMMAND [ARGS...]]     - configure agent command\n",
       "  %agent env [KEY=VALUE]                 - set environment variables\n",
       "\n",
       "Examples:\n",
       "    %agent mcp add filesystem /usr/local/bin/mcp-server-filesystem\n",
       "    %agent permissions auto\n",
       "    %agent session new /path/to/project\n",
       "    %agent config codex-acp --verbose"
      ]
     },
     "metadata": {},
     "output_type": "display_data"
    }
   ],
   "source": [
    "%agent?"
   ]
  },
  {
   "cell_type": "code",
   "execution_count": 6,
   "metadata": {},
   "outputs": [
    {
     "data": {
      "text/plain": [
       "MCP Server Configuration\n",
       "\n",
       "MCP (Model Context Protocol) servers provide additional capabilities to the agent.\n",
       "\n",
       "Commands:\n",
       "  %agent mcp add NAME COMMAND [ARGS...]\n",
       "      Add an MCP server to the session\n",
       "      Example: %agent mcp add filesystem /usr/local/bin/mcp-server-filesystem\n",
       "      \n",
       "  %agent mcp list\n",
       "      List all configured MCP servers\n",
       "      \n",
       "  %agent mcp remove NAME\n",
       "      Remove a specific MCP server by name\n",
       "      \n",
       "  %agent mcp clear\n",
       "      Remove all configured MCP servers\n"
      ]
     },
     "metadata": {},
     "output_type": "display_data"
    }
   ],
   "source": [
    "%agent mcp?"
   ]
  },
  {
   "cell_type": "code",
   "execution_count": 7,
   "metadata": {},
   "outputs": [
    {
     "data": {
      "text/html": [
       "./<br>\n",
       "&nbsp;&nbsp;<a href='./configuration_demo.ipynb' target='_blank'>configuration_demo.ipynb</a><br>\n",
       "&nbsp;&nbsp;<a href='./basic_usage.ipynb' target='_blank'>basic_usage.ipynb</a><br>\n",
       "&nbsp;&nbsp;<a href='./graphviz.ipynb' target='_blank'>graphviz.ipynb</a><br>"
      ],
      "text/plain": [
       "./\n",
       "  configuration_demo.ipynb\n",
       "  basic_usage.ipynb\n",
       "  graphviz.ipynb"
      ]
     },
     "execution_count": 7,
     "metadata": {},
     "output_type": "execute_result"
    }
   ],
   "source": [
    "%ls"
   ]
  },
  {
   "cell_type": "code",
   "execution_count": 8,
   "metadata": {},
   "outputs": [
    {
     "data": {
      "text/plain": [
       "7"
      ]
     },
     "execution_count": 8,
     "metadata": {},
     "output_type": "execute_result"
    }
   ],
   "source": [
    "%%python\n",
    "1 + 2 * 3"
   ]
  },
  {
   "cell_type": "code",
   "execution_count": 9,
   "metadata": {},
   "outputs": [
    {
     "name": "stdout",
     "output_type": "stream",
     "text": [
      "Agent Management Commands\n",
      "\n",
      "MCP Server Configuration:\n",
      "  %agent mcp add NAME COMMAND [ARGS...]\n",
      "  %agent mcp list\n",
      "  %agent mcp remove NAME\n",
      "  %agent mcp clear\n",
      "\n",
      "Permission Configuration:\n",
      "  %agent permissions [auto|manual|deny]\n",
      "  %agent permissions list\n",
      "\n",
      "Session Management:\n",
      "  %agent session new [CWD]\n",
      "  %agent session info\n",
      "  %agent session restart\n",
      "\n",
      "Agent Configuration:\n",
      "  %agent config [COMMAND [ARGS...]]\n",
      "  %agent env [KEY=VALUE]\n",
      "\n",
      "Use '%agent SUBCOMMAND' for detailed help\n"
     ]
    }
   ],
   "source": [
    "%agent"
   ]
  },
  {
   "cell_type": "code",
   "execution_count": 10,
   "metadata": {},
   "outputs": [
    {
     "data": {
      "text/plain": [
       "Hey there! How can I help today?"
      ]
     },
     "execution_count": 10,
     "metadata": {},
     "output_type": "execute_result"
    }
   ],
   "source": [
    "hello"
   ]
  },
  {
   "cell_type": "code",
   "execution_count": 15,
   "metadata": {},
   "outputs": [
    {
     "name": "stdout",
     "output_type": "stream",
     "text": [
      "Current Session Information:\n",
      "  Session ID: 019a1356-af9f-7db2-b961-4ecdb5eaf95c\n",
      "  Working Directory: /workspaces/agent-client-kernel/examples\n",
      "  Agent Command: codex-acp\n",
      "\n",
      "  No MCP servers configured\n",
      "\n",
      "  Permission Mode: auto\n"
     ]
    }
   ],
   "source": [
    "%agent session info"
   ]
  },
  {
   "cell_type": "markdown",
   "metadata": {},
   "source": [
    "## Example Prompts\n",
    "\n",
    "Simply type your request and execute the cell. The agent will respond with code, explanations, or assistance."
   ]
  },
  {
   "cell_type": "code",
   "execution_count": 12,
   "metadata": {},
   "outputs": [
    {
     "data": {
      "text/plain": [
       "Implemented a straightforward factorial helper; handles non-negative integers and uses an iterative loop for clarity.\n",
       "\n",
       "```python\n",
       "def factorial(n: int) -> int:\n",
       "    \"\"\"Return n! for a non-negative integer n.\"\"\"\n",
       "    if n < 0:\n",
       "        raise ValueError(\"factorial() is only defined for non-negative integers\")\n",
       "    result = 1\n",
       "    for i in range(2, n + 1):\n",
       "        result *= i\n",
       "    return result\n",
       "```"
      ]
     },
     "execution_count": 12,
     "metadata": {},
     "output_type": "execute_result"
    }
   ],
   "source": [
    "Write a Python function to calculate the factorial of a number"
   ]
  },
  {
   "cell_type": "code",
   "execution_count": 13,
   "metadata": {},
   "outputs": [
    {
     "data": {
      "text/plain": [
       "Binary search locates a target inside a sorted sequence by keeping two bounds (`lo`, `hi`) that enclose where the value could still be. Each step checks the middle element; if the middle is too small we discard the left half by moving `lo = mid + 1`, and if it’s too large we discard the right half with `hi = mid - 1`. That repeated halving keeps the search space shrinking exponentially, so it runs in `O(log n)` time.\n",
       "\n",
       "Here's an iterative implementation that returns the index of the target or `-1` when it isn’t present:\n",
       "\n",
       "```python\n",
       "from typing import Sequence, Any\n",
       "\n",
       "def binary_search(items: Sequence[Any], target: Any) -> int:\n",
       "    \"\"\"Return the index of target in items if present, otherwise -1.\"\"\"\n",
       "    lo, hi = 0, len(items) - 1\n",
       "    while lo <= hi:\n",
       "        mid = lo + (hi - lo) // 2\n",
       "        if items[mid] == target:\n",
       "            return mid\n",
       "        if items[mid] < target:\n",
       "            lo = mid + 1\n",
       "        else:\n",
       "            hi = mid - 1\n",
       "    return -1\n",
       "```\n",
       "\n",
       "You can test it with something like `binary_search([1, 4, 6, 8, 10], 6)`, which returns `2`, and `binary_search([1, 4, 6, 8, 10], 7)`, which returns `-1`."
      ]
     },
     "execution_count": 13,
     "metadata": {},
     "output_type": "execute_result"
    }
   ],
   "source": [
    "Explain how binary search works and provide an implementation in Python"
   ]
  },
  {
   "cell_type": "markdown",
   "metadata": {},
   "source": [
    "## Multi-line Prompts\n",
    "\n",
    "You can also send more complex, multi-line prompts:"
   ]
  },
  {
   "cell_type": "code",
   "execution_count": 14,
   "metadata": {},
   "outputs": [
    {
     "data": {
      "text/plain": [
       "Implements an in-memory manager that keeps each task’s description plus completion state; supports index-based removal and completion and returns a simple list view for display or testing.\n",
       "\n",
       "```python\n",
       "from dataclasses import dataclass\n",
       "from typing import List, Dict\n",
       "\n",
       "\n",
       "@dataclass\n",
       "class Task:\n",
       "    description: str\n",
       "    completed: bool = False\n",
       "\n",
       "\n",
       "class ToDoList:\n",
       "    def __init__(self) -> None:\n",
       "        self._tasks: List[Task] = []\n",
       "\n",
       "    def add_task(self, description: str) -> None:\n",
       "        \"\"\"Store a new task with the provided description.\"\"\"\n",
       "        self._tasks.append(Task(description))\n",
       "\n",
       "    def remove_task(self, index: int) -> Task:\n",
       "        \"\"\"Remove and return the task at the given index.\"\"\"\n",
       "        if not 0 <= index < len(self._tasks):\n",
       "            raise IndexError(\"task index out of range\")\n",
       "        return self._tasks.pop(index)\n",
       "\n",
       "    def mark_complete(self, index: int) -> None:\n",
       "        \"\"\"Mark the task at the given index as complete.\"\"\"\n",
       "        if not 0 <= index < len(self._tasks):\n",
       "            raise IndexError(\"task index out of range\")\n",
       "        self._tasks[index].completed = True\n",
       "\n",
       "    def list_tasks(self) -> List[Dict[str, object]]:\n",
       "        \"\"\"Return a serializable view of all tasks.\"\"\"\n",
       "        return [\n",
       "            {\"index\": idx, \"description\": task.description, \"completed\": task.completed}\n",
       "            for idx, task in enumerate(self._tasks)\n",
       "        ]\n",
       "```\n",
       "\n",
       "Add this class to a module, instantiate `ToDoList()`, and call the methods as your UI or CLI demands."
      ]
     },
     "execution_count": 14,
     "metadata": {},
     "output_type": "execute_result"
    }
   ],
   "source": [
    "Create a Python class for a simple to-do list manager with the following features:\n",
    "- Add tasks\n",
    "- Remove tasks\n",
    "- Mark tasks as complete\n",
    "- List all tasks"
   ]
  },
  {
   "cell_type": "markdown",
   "metadata": {},
   "source": [
    "## MetaKernel Features\n",
    "\n",
    "This kernel is based on MetaKernel, so you have access to built-in magics like:\n",
    "\n",
    "- `%help` - Show help information\n",
    "- `%lsmagic` - List available magics\n",
    "- Shell commands (prefix with `!`)\n",
    "\n",
    "And more!"
   ]
  }
 ],
 "metadata": {
  "kernelspec": {
   "display_name": "Agent Client Protocol",
   "language": "agent",
   "name": "agentclient"
  },
  "language_info": {
   "file_extension": ".txt",
   "help_links": [
    {
     "text": "MetaKernel Magics",
     "url": "https://metakernel.readthedocs.io/en/latest/source/README.html"
    }
   ],
   "mimetype": "text/plain",
   "name": "agent"
  }
 },
 "nbformat": 4,
 "nbformat_minor": 4
}
