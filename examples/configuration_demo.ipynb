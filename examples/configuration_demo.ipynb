{
 "cells": [
  {
   "cell_type": "markdown",
   "metadata": {},
   "source": [
    "# Configuration and Session Management\n",
    "\n",
    "This notebook demonstrates the configuration and session management features of the Agent Client Protocol kernel."
   ]
  },
  {
   "cell_type": "markdown",
   "metadata": {},
   "source": [
    "## Agent Configuration\n",
    "\n",
    "Configure which agent to use and its arguments."
   ]
  },
  {
   "cell_type": "code",
   "execution_count": null,
   "metadata": {},
   "outputs": [],
   "source": [
    "# Check current agent configuration\n",
    "%agent_config"
   ]
  },
  {
   "cell_type": "code",
   "execution_count": null,
   "metadata": {},
   "outputs": [],
   "source": [
    "# Set a different agent (example - uncomment to use)\n",
    "# %agent_config codex-acp --verbose"
   ]
  },
  {
   "cell_type": "code",
   "execution_count": null,
   "metadata": {},
   "outputs": [],
   "source": [
    "# Check environment variables\n",
    "%agent_env"
   ]
  },
  {
   "cell_type": "code",
   "execution_count": null,
   "metadata": {},
   "outputs": [],
   "source": [
    "# Set environment variables (example - uncomment to use)\n",
    "# %agent_env OPENAI_API_KEY=sk-your-key-here"
   ]
  },
  {
   "cell_type": "markdown",
   "metadata": {},
   "source": [
    "## MCP Server Configuration\n",
    "\n",
    "MCP (Model Context Protocol) servers extend agent capabilities."
   ]
  },
  {
   "cell_type": "code",
   "execution_count": null,
   "metadata": {},
   "outputs": [],
   "source": [
    "# List configured MCP servers\n",
    "%mcp_list"
   ]
  },
  {
   "cell_type": "code",
   "execution_count": null,
   "metadata": {},
   "outputs": [],
   "source": [
    "# Add an MCP server (example - uncomment and adjust path)\n",
    "# %mcp_add filesystem /usr/local/bin/mcp-server-filesystem"
   ]
  },
  {
   "cell_type": "code",
   "execution_count": null,
   "metadata": {},
   "outputs": [],
   "source": [
    "# Add an MCP server with arguments (example)\n",
    "# %mcp_add github /path/to/mcp-github --token abc123"
   ]
  },
  {
   "cell_type": "code",
   "execution_count": null,
   "metadata": {},
   "outputs": [],
   "source": [
    "# Remove an MCP server\n",
    "# %mcp_remove filesystem"
   ]
  },
  {
   "cell_type": "code",
   "execution_count": null,
   "metadata": {},
   "outputs": [],
   "source": [
    "# Clear all MCP servers\n",
    "# %mcp_clear"
   ]
  },
  {
   "cell_type": "markdown",
   "metadata": {},
   "source": [
    "## Permission Configuration\n",
    "\n",
    "Control how the agent handles permission requests."
   ]
  },
  {
   "cell_type": "code",
   "execution_count": null,
   "metadata": {},
   "outputs": [],
   "source": [
    "# Show current permission mode\n",
    "%permissions show"
   ]
  },
  {
   "cell_type": "code",
   "execution_count": null,
   "metadata": {},
   "outputs": [],
   "source": [
    "# Set permission mode to auto-approve (default)\n",
    "%permissions auto"
   ]
  },
  {
   "cell_type": "code",
   "execution_count": null,
   "metadata": {},
   "outputs": [],
   "source": [
    "# Set permission mode to deny all\n",
    "# %permissions deny"
   ]
  },
  {
   "cell_type": "code",
   "execution_count": null,
   "metadata": {},
   "outputs": [],
   "source": [
    "# View permission request history\n",
    "%permissions_list"
   ]
  },
  {
   "cell_type": "markdown",
   "metadata": {},
   "source": [
    "## Session Management\n",
    "\n",
    "Create and manage agent sessions."
   ]
  },
  {
   "cell_type": "code",
   "execution_count": null,
   "metadata": {},
   "outputs": [],
   "source": [
    "# Show current session information\n",
    "%session_info"
   ]
  },
  {
   "cell_type": "code",
   "execution_count": null,
   "metadata": {},
   "outputs": [],
   "source": [
    "# Create a new session in current directory\n",
    "# This applies all configured MCP servers\n",
    "# %new_session"
   ]
  },
  {
   "cell_type": "code",
   "execution_count": null,
   "metadata": {},
   "outputs": [],
   "source": [
    "# Create a new session in a specific directory\n",
    "# %new_session /path/to/your/project"
   ]
  },
  {
   "cell_type": "code",
   "execution_count": null,
   "metadata": {},
   "outputs": [],
   "source": [
    "# Restart the current session\n",
    "# %session_restart"
   ]
  },
  {
   "cell_type": "markdown",
   "metadata": {},
   "source": [
    "## Getting Help\n",
    "\n",
    "Use `?` after any magic command to get detailed help."
   ]
  },
  {
   "cell_type": "code",
   "execution_count": null,
   "metadata": {},
   "outputs": [],
   "source": [
    "%mcp_add?"
   ]
  },
  {
   "cell_type": "code",
   "execution_count": null,
   "metadata": {},
   "outputs": [],
   "source": [
    "%new_session?"
   ]
  },
  {
   "cell_type": "code",
   "execution_count": null,
   "metadata": {},
   "outputs": [],
   "source": [
    "%permissions?"
   ]
  },
  {
   "cell_type": "markdown",
   "metadata": {},
   "source": [
    "## Example Workflow\n",
    "\n",
    "1. Configure your agent and MCP servers\n",
    "2. Set permission mode\n",
    "3. Create a new session with your configuration\n",
    "4. Use the agent by typing prompts in cells"
   ]
  },
  {
   "cell_type": "code",
   "execution_count": null,
   "metadata": {},
   "outputs": [],
   "source": [
    "# Example prompt to the agent\n",
    "# Write a Python function to sort a list of dictionaries by a specific key"
   ]
  }
 ],
 "metadata": {
  "kernelspec": {
   "display_name": "Agent Client Protocol",
   "language": "agent",
   "name": "agentclient"
  },
  "language_info": {
   "mimetype": "text/plain",
   "name": "agent",
   "file_extension": ".txt"
  }
 },
 "nbformat": 4,
 "nbformat_minor": 4
}
